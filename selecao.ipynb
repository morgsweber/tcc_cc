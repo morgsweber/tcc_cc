{
 "cells": [
  {
   "cell_type": "code",
   "execution_count": 1,
   "metadata": {},
   "outputs": [],
   "source": [
    "import pandas as pd\n",
    "\n",
    "patients = pd.read_csv('../patients.csv')\n",
    "admissions = pd.read_csv('../admissions.csv')\n",
    "diagnoses = pd.read_csv('../diagnoses_icd.csv')\n",
    "\n",
    "data = pd.merge(patients, admissions, on='SUBJECT_ID')\n",
    "data = pd.merge(data, diagnoses, on=['SUBJECT_ID', 'HADM_ID'])\n",
    "csv_data = data[['SUBJECT_ID', 'HADM_ID', 'ICD9_CODE', 'DOB', 'GENDER', 'ADMITTIME', 'DISCHTIME', 'INSURANCE', 'DIAGNOSIS', 'DEATHTIME']]\n",
    "\n",
    "csv_data.to_csv('selected_data.csv', index=False)"
   ]
  }
 ],
 "metadata": {
  "kernelspec": {
   "display_name": "Python 3",
   "language": "python",
   "name": "python3"
  },
  "language_info": {
   "codemirror_mode": {
    "name": "ipython",
    "version": 3
   },
   "file_extension": ".py",
   "mimetype": "text/x-python",
   "name": "python",
   "nbconvert_exporter": "python",
   "pygments_lexer": "ipython3",
   "version": "3.12.0"
  }
 },
 "nbformat": 4,
 "nbformat_minor": 2
}
