{
 "cells": [
  {
   "cell_type": "markdown",
   "metadata": {},
   "source": [
    "# **TCC - Regressão Linear**\n",
    "Morgana Weber"
   ]
  },
  {
   "cell_type": "markdown",
   "metadata": {},
   "source": [
    "# Imports e leitura dos arquivos"
   ]
  },
  {
   "cell_type": "code",
   "execution_count": 17,
   "metadata": {},
   "outputs": [],
   "source": [
    "import pandas as pd\n",
    "import numpy as np\n",
    "\n",
    "from sklearn.model_selection import train_test_split\n",
    "from sklearn.metrics import mean_squared_error\n",
    "from xgboost import XGBRegressor\n",
    "from sklearn.preprocessing import StandardScaler, LabelEncoder\n",
    "from sklearn.metrics import mean_absolute_error,  r2_score"
   ]
  },
  {
   "cell_type": "code",
   "execution_count": 18,
   "metadata": {},
   "outputs": [],
   "source": [
    "patients = pd.read_csv('patients.csv')\n",
    "admissions = pd.read_csv('admissions.csv')\n",
    "\n",
    "data = pd.merge(patients, admissions, on='SUBJECT_ID')\n",
    "#data.head()"
   ]
  },
  {
   "cell_type": "markdown",
   "metadata": {},
   "source": [
    "# Feature Engineering"
   ]
  },
  {
   "cell_type": "code",
   "execution_count": 19,
   "metadata": {},
   "outputs": [
    {
     "data": {
      "text/html": [
       "<div>\n",
       "<style scoped>\n",
       "    .dataframe tbody tr th:only-of-type {\n",
       "        vertical-align: middle;\n",
       "    }\n",
       "\n",
       "    .dataframe tbody tr th {\n",
       "        vertical-align: top;\n",
       "    }\n",
       "\n",
       "    .dataframe thead th {\n",
       "        text-align: right;\n",
       "    }\n",
       "</style>\n",
       "<table border=\"1\" class=\"dataframe\">\n",
       "  <thead>\n",
       "    <tr style=\"text-align: right;\">\n",
       "      <th></th>\n",
       "      <th>SUBJECT_ID</th>\n",
       "      <th>HADM_ID</th>\n",
       "      <th>ADMITTIME</th>\n",
       "      <th>DISCHTIME</th>\n",
       "      <th>INSURANCE</th>\n",
       "      <th>DIAGNOSIS</th>\n",
       "      <th>AGE</th>\n",
       "      <th>GENDER</th>\n",
       "      <th>PREV_ADMISSION_CHECK</th>\n",
       "      <th>AVG_DAYS_STAY</th>\n",
       "    </tr>\n",
       "  </thead>\n",
       "  <tbody>\n",
       "    <tr>\n",
       "      <th>0</th>\n",
       "      <td>249</td>\n",
       "      <td>116935</td>\n",
       "      <td>2149-12-17 20:41:00</td>\n",
       "      <td>2149-12-31 14:55:00</td>\n",
       "      <td>Medicare</td>\n",
       "      <td>UNSTABLE ANGINA;ASTHMA;BRONCHITIS</td>\n",
       "      <td>74</td>\n",
       "      <td>1</td>\n",
       "      <td>0</td>\n",
       "      <td>13.0</td>\n",
       "    </tr>\n",
       "    <tr>\n",
       "      <th>1</th>\n",
       "      <td>249</td>\n",
       "      <td>149546</td>\n",
       "      <td>2155-02-03 20:16:00</td>\n",
       "      <td>2155-02-14 11:15:00</td>\n",
       "      <td>Medicare</td>\n",
       "      <td>GI BLEED/ CHEST PAIN</td>\n",
       "      <td>80</td>\n",
       "      <td>1</td>\n",
       "      <td>1</td>\n",
       "      <td>10.0</td>\n",
       "    </tr>\n",
       "    <tr>\n",
       "      <th>2</th>\n",
       "      <td>249</td>\n",
       "      <td>158975</td>\n",
       "      <td>2156-04-27 15:33:00</td>\n",
       "      <td>2156-05-14 15:30:00</td>\n",
       "      <td>Medicare</td>\n",
       "      <td>GI BLEEDING\\COLONOSCOPY</td>\n",
       "      <td>81</td>\n",
       "      <td>1</td>\n",
       "      <td>1</td>\n",
       "      <td>16.0</td>\n",
       "    </tr>\n",
       "    <tr>\n",
       "      <th>3</th>\n",
       "      <td>250</td>\n",
       "      <td>124271</td>\n",
       "      <td>2188-11-12 09:22:00</td>\n",
       "      <td>2188-11-22 12:00:00</td>\n",
       "      <td>Self Pay</td>\n",
       "      <td>PNEUMONIA;R/O TB</td>\n",
       "      <td>24</td>\n",
       "      <td>1</td>\n",
       "      <td>0</td>\n",
       "      <td>10.0</td>\n",
       "    </tr>\n",
       "    <tr>\n",
       "      <th>4</th>\n",
       "      <td>251</td>\n",
       "      <td>117937</td>\n",
       "      <td>2110-07-27 06:46:00</td>\n",
       "      <td>2110-07-29 15:23:00</td>\n",
       "      <td>Private</td>\n",
       "      <td>INTRACRANIAL HEAD BLEED</td>\n",
       "      <td>20</td>\n",
       "      <td>0</td>\n",
       "      <td>0</td>\n",
       "      <td>2.5</td>\n",
       "    </tr>\n",
       "  </tbody>\n",
       "</table>\n",
       "</div>"
      ],
      "text/plain": [
       "   SUBJECT_ID  HADM_ID           ADMITTIME           DISCHTIME INSURANCE  \\\n",
       "0         249   116935 2149-12-17 20:41:00 2149-12-31 14:55:00  Medicare   \n",
       "1         249   149546 2155-02-03 20:16:00 2155-02-14 11:15:00  Medicare   \n",
       "2         249   158975 2156-04-27 15:33:00 2156-05-14 15:30:00  Medicare   \n",
       "3         250   124271 2188-11-12 09:22:00 2188-11-22 12:00:00  Self Pay   \n",
       "4         251   117937 2110-07-27 06:46:00 2110-07-29 15:23:00   Private   \n",
       "\n",
       "                           DIAGNOSIS  AGE  GENDER PREV_ADMISSION_CHECK  \\\n",
       "0  UNSTABLE ANGINA;ASTHMA;BRONCHITIS   74       1                    0   \n",
       "1               GI BLEED/ CHEST PAIN   80       1                    1   \n",
       "2            GI BLEEDING\\COLONOSCOPY   81       1                    1   \n",
       "3                   PNEUMONIA;R/O TB   24       1                    0   \n",
       "4            INTRACRANIAL HEAD BLEED   20       0                    0   \n",
       "\n",
       "   AVG_DAYS_STAY  \n",
       "0           13.0  \n",
       "1           10.0  \n",
       "2           16.0  \n",
       "3           10.0  \n",
       "4            2.5  "
      ]
     },
     "execution_count": 19,
     "metadata": {},
     "output_type": "execute_result"
    }
   ],
   "source": [
    "data['DOB'] = pd.to_datetime(data['DOB'])\n",
    "data['ADMITTIME'] = pd.to_datetime(data['ADMITTIME'])\n",
    "\n",
    "data['DOB_YEAR'] = data['DOB'].dt.year\n",
    "data['ADMIT_YEAR'] = data['ADMITTIME'].dt.year\n",
    "\n",
    "#calcula a fake idade\n",
    "data['AGE'] = data['ADMIT_YEAR'] - data['DOB_YEAR']\n",
    "\n",
    "#cria uma coluna dizendo se internou mais de uma vez\n",
    "data['PREV_ADMISSION'] = data.groupby('SUBJECT_ID').cumcount()\n",
    "data['PREV_ADMISSION_CHECK'] = data['PREV_ADMISSION'].apply(lambda x: '1' if x > 0 else '0')\n",
    "\n",
    "#tempo de estadia\n",
    "data['ADMITTIME'] = pd.to_datetime(data['ADMITTIME'])\n",
    "data['DISCHTIME'] = pd.to_datetime(data['DISCHTIME'])\n",
    "data['AVG_DAYS_STAY'] = (data['DISCHTIME'] - data['ADMITTIME']).dt.days\n",
    "\n",
    "#agrega por diagnostico e calcula a média\n",
    "avg_days_by_diagnosis = data.groupby('DIAGNOSIS')['AVG_DAYS_STAY'].mean().reset_index()\n",
    "\n",
    "patients_per_diagnosis = data.groupby('DIAGNOSIS')['SUBJECT_ID'].nunique().reset_index()\n",
    "patients_per_diagnosis.columns = ['DIAGNOSIS', 'NUMBER_OF_PATIENTS']\n",
    "\n",
    "sorted_patients_per_diagnosis = patients_per_diagnosis.sort_values('NUMBER_OF_PATIENTS', ascending=False)\n",
    "\n",
    "# Para exibir a tabela\n",
    "#print(sorted_patients_per_diagnosis)\n",
    "\n",
    "#converte genero pra binário\n",
    "data['GENDER'] = data['GENDER'].map({'M': 0, 'F': 1})\n",
    "\n",
    "selected_data = data[['SUBJECT_ID', 'HADM_ID', 'ADMITTIME', 'DISCHTIME', 'INSURANCE', 'DIAGNOSIS','AGE', 'GENDER', 'PREV_ADMISSION_CHECK']]\n",
    "\n",
    "#adiciona o tempo médio de acordo com o diagnostico\n",
    "selected_data = pd.merge(selected_data, avg_days_by_diagnosis, on='DIAGNOSIS', how='left')\n",
    "selected_data.head()"
   ]
  },
  {
   "cell_type": "markdown",
   "metadata": {},
   "source": [
    "# Modelo - XGBoost"
   ]
  },
  {
   "cell_type": "code",
   "execution_count": 20,
   "metadata": {},
   "outputs": [
    {
     "name": "stdout",
     "output_type": "stream",
     "text": [
      "Treino MSE: 0.5624790547358346\n",
      "Teste MSE: 1.0744747822930398\n"
     ]
    }
   ],
   "source": [
    "label_encoder = LabelEncoder()\n",
    "categorical_features = ['INSURANCE', 'DIAGNOSIS', 'GENDER','PREV_ADMISSION_CHECK']\n",
    "\n",
    "for feature in categorical_features:\n",
    "    selected_data[feature] = label_encoder.fit_transform(selected_data[feature])\n",
    "\n",
    "# Drop Columns with datetime\n",
    "selected_data = selected_data.drop(columns=['ADMITTIME', 'DISCHTIME'])\n",
    "\n",
    "# Normalização dos dados    \n",
    "scaler = StandardScaler()\n",
    "selected_data_scaled = pd.DataFrame(scaler.fit_transform(selected_data), columns=selected_data.columns)\n",
    "\n",
    "# Separação dos dados em recursos e valor-alvo\n",
    "X = selected_data_scaled.drop(['AVG_DAYS_STAY'], axis=1)\n",
    "y = selected_data_scaled['AVG_DAYS_STAY']\n",
    "\n",
    "y = y.replace([np.inf, -np.inf], np.nan)\n",
    "y = y.dropna()\n",
    "X = X.loc[y.index, :]\n",
    "\n",
    "# Separação dos dados em treinamento e teste\n",
    "X_train, X_test, y_train, y_test = train_test_split(X, y, test_size=0.2, random_state=1)\n",
    "\n",
    "# Treinamento do modelo\n",
    "xgb_model = XGBRegressor(objective ='reg:squarederror')\n",
    "xgb_model.fit(X_train, y_train)\n",
    "\n",
    "# Previsão\n",
    "y_pred_train = xgb_model.predict(X_train)\n",
    "y_pred = xgb_model.predict(X_test)\n",
    "\n",
    "# Avaliação do Modelo\n",
    "mae = mean_absolute_error(y_test, y_pred)\n",
    "mse = mean_squared_error(y_test, y_pred)\n",
    "rmse = np.sqrt(mse)\n",
    "r2 = r2_score(y_test, y_pred)\n",
    "\n",
    "# Agora vamos imprimir as métricas.\n",
    "print(f\"MAE: {mae}\")\n",
    "print(f\"MSE: {mse}\")\n",
    "print(f\"RMSE: {rmse}\")\n",
    "print(f\"R² score: {r2}\")"
   ]
  },
  {
   "cell_type": "markdown",
   "metadata": {},
   "source": [
    "# Analisando resultados"
   ]
  }
 ],
 "metadata": {
  "kernelspec": {
   "display_name": "Python 3",
   "language": "python",
   "name": "python3"
  },
  "language_info": {
   "codemirror_mode": {
    "name": "ipython",
    "version": 3
   },
   "file_extension": ".py",
   "mimetype": "text/x-python",
   "name": "python",
   "nbconvert_exporter": "python",
   "pygments_lexer": "ipython3",
   "version": "3.12.0"
  }
 },
 "nbformat": 4,
 "nbformat_minor": 2
}
